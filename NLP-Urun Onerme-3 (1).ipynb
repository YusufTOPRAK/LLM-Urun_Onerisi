{
 "cells": [
  {
   "cell_type": "markdown",
   "id": "74cb3cea",
   "metadata": {},
   "source": [
    "### VERİ SETİ: \n",
    "- Farklı markaya sahaip hoparlörlerin bilgileri yer alıyor.\n",
    "\n",
    "### KOLONLAR:\n",
    "1. review ID: Her benzersiz yorum için id\n",
    "2. title: Kullanıcı görüşünün özeti\n",
    "3. author: İncelemeyi yapan kişi\n",
    "4. rating: Kullanıcının verdiği puan(5 üzerinden)\n",
    "5. content: Kullanıcı yorumu\n",
    "6. timestamp: Yorumun ne zaman ve nereden yapıldığı\n",
    "7. Is_verified: Yorumu yapan kullanıcın ürünü alıp almadığı\n",
    "8. helpful_count: Yapılan yorumun kaç kişi tarafından beğenildiği\n",
    "9. product_attributes: Hoparlör özellikleri\n",
    "10. Product_name: Ürün adı\n",
    "11. price: Ürün fiyatı\n",
    "12. company: Şirket adı"
   ]
  },
  {
   "cell_type": "code",
   "execution_count": 1,
   "id": "f0c73def",
   "metadata": {},
   "outputs": [],
   "source": [
    "import pandas as pd\n",
    "import re\n",
    "import string\n",
    "import nltk\n",
    "\n",
    "# nltk.download('stopwords', force=True)\n",
    "# nltk.download('wordnet', force=True)\n",
    "# nltk.download('omw-1.4', force=True)\n",
    "# nltk.download('punkt', force=True)\n",
    "# nltk.download('punkt_tab')\n",
    "\n",
    "from nltk.corpus import stopwords # Etkisisiz/Anlamsız(Stopwords) kelimelerin kaldırılması için\n",
    "from nltk.stem import WordNetLemmatizer # Lemmatization: Kelimelerin kökününe dönüştürme için \n",
    "\n",
    "from sklearn.feature_extraction.text import TfidfVectorizer # TF-IDF hesaplaması için\n",
    "from sklearn.preprocessing import LabelEncoder\n",
    "from sklearn.preprocessing import OrdinalEncoder\n",
    "from sklearn.preprocessing import OneHotEncoder\n",
    "from sklearn.preprocessing import StandardScaler\n",
    "from sklearn.compose import ColumnTransformer\n",
    "\n",
    "from sklearn.model_selection import train_test_split\n",
    "\n",
    "\n",
    "from sklearn.linear_model import LogisticRegression\n",
    "from sklearn.tree import DecisionTreeClassifier\n",
    "\n",
    "from sklearn.metrics import confusion_matrix\n",
    "\n",
    "import pickle"
   ]
  },
  {
   "cell_type": "code",
   "execution_count": 2,
   "id": "29e90675",
   "metadata": {},
   "outputs": [
    {
     "data": {
      "text/html": [
       "<div>\n",
       "<style scoped>\n",
       "    .dataframe tbody tr th:only-of-type {\n",
       "        vertical-align: middle;\n",
       "    }\n",
       "\n",
       "    .dataframe tbody tr th {\n",
       "        vertical-align: top;\n",
       "    }\n",
       "\n",
       "    .dataframe thead th {\n",
       "        text-align: right;\n",
       "    }\n",
       "</style>\n",
       "<table border=\"1\" class=\"dataframe\">\n",
       "  <thead>\n",
       "    <tr style=\"text-align: right;\">\n",
       "      <th></th>\n",
       "      <th>Unnamed: 0</th>\n",
       "      <th>review_id</th>\n",
       "      <th>title</th>\n",
       "      <th>author</th>\n",
       "      <th>rating</th>\n",
       "      <th>content</th>\n",
       "      <th>timestamp</th>\n",
       "      <th>is_verified</th>\n",
       "      <th>helpful_count</th>\n",
       "      <th>product_attributes</th>\n",
       "      <th>Product_name</th>\n",
       "      <th>price(in $)</th>\n",
       "      <th>company</th>\n",
       "    </tr>\n",
       "  </thead>\n",
       "  <tbody>\n",
       "    <tr>\n",
       "      <th>0</th>\n",
       "      <td>0</td>\n",
       "      <td>RE2FG9LL12TYG</td>\n",
       "      <td>5.0 out of 5 stars Excellent Design and Sound ...</td>\n",
       "      <td>luis miguel</td>\n",
       "      <td>5</td>\n",
       "      <td>It has a beautiful design, great sound quality...</td>\n",
       "      <td>Reviewed in the United States September 2, 2024</td>\n",
       "      <td>True</td>\n",
       "      <td>0</td>\n",
       "      <td>Color: Black &amp; BrassStyle: Emberton II</td>\n",
       "      <td>Marshall Emberton II</td>\n",
       "      <td>115</td>\n",
       "      <td>Marshall</td>\n",
       "    </tr>\n",
       "  </tbody>\n",
       "</table>\n",
       "</div>"
      ],
      "text/plain": [
       "   Unnamed: 0      review_id  \\\n",
       "0           0  RE2FG9LL12TYG   \n",
       "\n",
       "                                               title       author  rating  \\\n",
       "0  5.0 out of 5 stars Excellent Design and Sound ...  luis miguel       5   \n",
       "\n",
       "                                             content  \\\n",
       "0  It has a beautiful design, great sound quality...   \n",
       "\n",
       "                                         timestamp  is_verified  \\\n",
       "0  Reviewed in the United States September 2, 2024         True   \n",
       "\n",
       "   helpful_count                      product_attributes  \\\n",
       "0              0  Color: Black & BrassStyle: Emberton II   \n",
       "\n",
       "           Product_name  price(in $)   company  \n",
       "0  Marshall Emberton II          115  Marshall  "
      ]
     },
     "execution_count": 2,
     "metadata": {},
     "output_type": "execute_result"
    }
   ],
   "source": [
    "df = pd.read_csv(\"urun_analizi.csv\")\n",
    "df.head(1)"
   ]
  },
  {
   "cell_type": "code",
   "execution_count": 3,
   "id": "605913d1",
   "metadata": {},
   "outputs": [],
   "source": [
    "# Kolonları silme\n",
    "df.drop([\"Unnamed: 0\", \"review_id\", \"title\", \"author\", \"timestamp\", \"is_verified\", \"helpful_count\"], axis=1, inplace=True)"
   ]
  },
  {
   "cell_type": "code",
   "execution_count": 4,
   "id": "e13e4740",
   "metadata": {},
   "outputs": [
    {
     "data": {
      "text/plain": [
       "rating                0\n",
       "content               2\n",
       "product_attributes    0\n",
       "Product_name          0\n",
       "price(in $)           0\n",
       "company               0\n",
       "dtype: int64"
      ]
     },
     "execution_count": 4,
     "metadata": {},
     "output_type": "execute_result"
    }
   ],
   "source": [
    "# Eksik veri Kontrolü\n",
    "df.isnull().sum()"
   ]
  },
  {
   "cell_type": "code",
   "execution_count": 5,
   "id": "694ef118",
   "metadata": {},
   "outputs": [],
   "source": [
    "df.dropna(inplace=True)"
   ]
  },
  {
   "cell_type": "markdown",
   "id": "90ce0129",
   "metadata": {},
   "source": [
    "### VERİ TEMİZLEME"
   ]
  },
  {
   "cell_type": "code",
   "execution_count": 6,
   "id": "d32bdf26",
   "metadata": {},
   "outputs": [],
   "source": [
    "# \"product_attributes\" kolonunda sadece renk kısmını ele alma\n",
    "def renk(text):\n",
    "    ayrim = re.search(r'Color:\\s*([A-Za-z\\s&]+)', text)\n",
    "    if ayrim:\n",
    "        return ayrim.group(1).strip()\n",
    "    else:\n",
    "        # Color: yoksa orijinal metni döndür (örneğin \"black\", \"grey\" gibi)\n",
    "        return text.strip()\n",
    "colors = [renk(item) for item in df[\"product_attributes\"]]\n",
    "df[\"product_attributes\"] = colors"
   ]
  },
  {
   "cell_type": "code",
   "execution_count": 7,
   "id": "c18873ca",
   "metadata": {},
   "outputs": [],
   "source": [
    "# Tüm harflerin küçük harfe dönüştürülmesi\n",
    "df[df.select_dtypes(include=[\"object\"]).columns] = df.select_dtypes(include=[\"object\"]).apply(lambda x:x.str.lower())\n",
    "\n",
    "# Noktalama işaretlerinin kaldırılması\n",
    "df[df.select_dtypes(include=[\"object\"]).columns] = df.select_dtypes(include=[\"object\"]).apply(lambda x:x.str.translate(str.maketrans('', '', string.punctuation)))\n",
    "\n",
    "# Metin içerisindeki sayısal değerlerden kurtulma\n",
    "df[df.select_dtypes(include=[\"object\"]).columns] =  df.select_dtypes(include=[\"object\"]).apply(lambda x:x.str.replace(r'\\d+', '', regex=True))\n",
    "\n",
    "# Etkisisiz/Anlamsız(Stopwords) kelimelerin kaldırılması\n",
    "stop_words = set(stopwords.words('english'))\n",
    "for col in df.select_dtypes(include=[\"object\"]).columns:\n",
    "    df[col] = df[col].apply(lambda text: ' '.join([word for word in text.split() if word.lower() not in stop_words]) if isinstance(text, str) else text)\n",
    "    \n",
    "# Lemmatization: Kelimelerin kökününe dönüştürme\n",
    "lemmatizer = WordNetLemmatizer()\n",
    "\n",
    "for col in df.select_dtypes(include=[\"object\"]).columns:\n",
    "    df[col] = df[col].apply(lambda text: ' '.join([lemmatizer.lemmatize(word) for word in text.split()]))"
   ]
  },
  {
   "cell_type": "code",
   "execution_count": 10,
   "id": "763a7e26",
   "metadata": {},
   "outputs": [],
   "source": [
    "# Ordinal Encoding\n",
    "rating_siralama = [[0.0, 1.0, 2.0 ,3.0 ,4.0 ,5.0]]\n",
    "\n",
    "ordinal_coding = OrdinalEncoder(categories=rating_siralama)\n",
    "df[\"rating\"] = ordinal_coding.fit_transform(df[[\"rating\"]])"
   ]
  },
  {
   "cell_type": "markdown",
   "id": "dbd0a58c",
   "metadata": {},
   "source": [
    "### TF-IDF ve  OneHotEncoder, StandardScaler İşlemleri"
   ]
  },
  {
   "cell_type": "code",
   "execution_count": 11,
   "id": "792df30a",
   "metadata": {},
   "outputs": [],
   "source": [
    "tfidf = TfidfVectorizer(max_features=1000)\n",
    "\n",
    "preprocessor = ColumnTransformer(\n",
    "    transformers=[\n",
    "        ('tfidf', tfidf, 'content'), \n",
    "        ('num', StandardScaler(), ['rating', 'price(in $)']), \n",
    "        ('cat', OneHotEncoder(handle_unknown='ignore'), ['product_attributes', 'company'])\n",
    "    ])\n",
    "\n",
    "X = preprocessor.fit_transform(df) # bağımsız değişkenler"
   ]
  },
  {
   "cell_type": "code",
   "execution_count": 12,
   "id": "477bb160",
   "metadata": {},
   "outputs": [],
   "source": [
    "y = df[\"Product_name\"] # bağımlı değişken"
   ]
  },
  {
   "cell_type": "code",
   "execution_count": 13,
   "id": "c20ae435",
   "metadata": {},
   "outputs": [],
   "source": [
    "# Eğitim ve test kümesi ayrımı\n",
    "x_train, x_test, y_train, y_test = train_test_split(X, y, test_size=0.2, random_state=42)"
   ]
  },
  {
   "cell_type": "code",
   "execution_count": 14,
   "id": "1d6724ae",
   "metadata": {},
   "outputs": [
    {
     "data": {
      "text/html": [
       "<style>#sk-container-id-1 {color: black;background-color: white;}#sk-container-id-1 pre{padding: 0;}#sk-container-id-1 div.sk-toggleable {background-color: white;}#sk-container-id-1 label.sk-toggleable__label {cursor: pointer;display: block;width: 100%;margin-bottom: 0;padding: 0.3em;box-sizing: border-box;text-align: center;}#sk-container-id-1 label.sk-toggleable__label-arrow:before {content: \"▸\";float: left;margin-right: 0.25em;color: #696969;}#sk-container-id-1 label.sk-toggleable__label-arrow:hover:before {color: black;}#sk-container-id-1 div.sk-estimator:hover label.sk-toggleable__label-arrow:before {color: black;}#sk-container-id-1 div.sk-toggleable__content {max-height: 0;max-width: 0;overflow: hidden;text-align: left;background-color: #f0f8ff;}#sk-container-id-1 div.sk-toggleable__content pre {margin: 0.2em;color: black;border-radius: 0.25em;background-color: #f0f8ff;}#sk-container-id-1 input.sk-toggleable__control:checked~div.sk-toggleable__content {max-height: 200px;max-width: 100%;overflow: auto;}#sk-container-id-1 input.sk-toggleable__control:checked~label.sk-toggleable__label-arrow:before {content: \"▾\";}#sk-container-id-1 div.sk-estimator input.sk-toggleable__control:checked~label.sk-toggleable__label {background-color: #d4ebff;}#sk-container-id-1 div.sk-label input.sk-toggleable__control:checked~label.sk-toggleable__label {background-color: #d4ebff;}#sk-container-id-1 input.sk-hidden--visually {border: 0;clip: rect(1px 1px 1px 1px);clip: rect(1px, 1px, 1px, 1px);height: 1px;margin: -1px;overflow: hidden;padding: 0;position: absolute;width: 1px;}#sk-container-id-1 div.sk-estimator {font-family: monospace;background-color: #f0f8ff;border: 1px dotted black;border-radius: 0.25em;box-sizing: border-box;margin-bottom: 0.5em;}#sk-container-id-1 div.sk-estimator:hover {background-color: #d4ebff;}#sk-container-id-1 div.sk-parallel-item::after {content: \"\";width: 100%;border-bottom: 1px solid gray;flex-grow: 1;}#sk-container-id-1 div.sk-label:hover label.sk-toggleable__label {background-color: #d4ebff;}#sk-container-id-1 div.sk-serial::before {content: \"\";position: absolute;border-left: 1px solid gray;box-sizing: border-box;top: 0;bottom: 0;left: 50%;z-index: 0;}#sk-container-id-1 div.sk-serial {display: flex;flex-direction: column;align-items: center;background-color: white;padding-right: 0.2em;padding-left: 0.2em;position: relative;}#sk-container-id-1 div.sk-item {position: relative;z-index: 1;}#sk-container-id-1 div.sk-parallel {display: flex;align-items: stretch;justify-content: center;background-color: white;position: relative;}#sk-container-id-1 div.sk-item::before, #sk-container-id-1 div.sk-parallel-item::before {content: \"\";position: absolute;border-left: 1px solid gray;box-sizing: border-box;top: 0;bottom: 0;left: 50%;z-index: -1;}#sk-container-id-1 div.sk-parallel-item {display: flex;flex-direction: column;z-index: 1;position: relative;background-color: white;}#sk-container-id-1 div.sk-parallel-item:first-child::after {align-self: flex-end;width: 50%;}#sk-container-id-1 div.sk-parallel-item:last-child::after {align-self: flex-start;width: 50%;}#sk-container-id-1 div.sk-parallel-item:only-child::after {width: 0;}#sk-container-id-1 div.sk-dashed-wrapped {border: 1px dashed gray;margin: 0 0.4em 0.5em 0.4em;box-sizing: border-box;padding-bottom: 0.4em;background-color: white;}#sk-container-id-1 div.sk-label label {font-family: monospace;font-weight: bold;display: inline-block;line-height: 1.2em;}#sk-container-id-1 div.sk-label-container {text-align: center;}#sk-container-id-1 div.sk-container {/* jupyter's `normalize.less` sets `[hidden] { display: none; }` but bootstrap.min.css set `[hidden] { display: none !important; }` so we also need the `!important` here to be able to override the default hidden behavior on the sphinx rendered scikit-learn.org. See: https://github.com/scikit-learn/scikit-learn/issues/21755 */display: inline-block !important;position: relative;}#sk-container-id-1 div.sk-text-repr-fallback {display: none;}</style><div id=\"sk-container-id-1\" class=\"sk-top-container\"><div class=\"sk-text-repr-fallback\"><pre>LogisticRegression()</pre><b>In a Jupyter environment, please rerun this cell to show the HTML representation or trust the notebook. <br />On GitHub, the HTML representation is unable to render, please try loading this page with nbviewer.org.</b></div><div class=\"sk-container\" hidden><div class=\"sk-item\"><div class=\"sk-estimator sk-toggleable\"><input class=\"sk-toggleable__control sk-hidden--visually\" id=\"sk-estimator-id-1\" type=\"checkbox\" checked><label for=\"sk-estimator-id-1\" class=\"sk-toggleable__label sk-toggleable__label-arrow\">LogisticRegression</label><div class=\"sk-toggleable__content\"><pre>LogisticRegression()</pre></div></div></div></div></div>"
      ],
      "text/plain": [
       "LogisticRegression()"
      ]
     },
     "execution_count": 14,
     "metadata": {},
     "output_type": "execute_result"
    }
   ],
   "source": [
    "# Model kurma ve eğitme\n",
    "model = LogisticRegression()\n",
    "model.fit(x_train, y_train)"
   ]
  },
  {
   "cell_type": "code",
   "execution_count": 15,
   "id": "330abd28",
   "metadata": {},
   "outputs": [],
   "source": [
    "# Tahmin etme\n",
    "y_pred = model.predict(x_test)"
   ]
  },
  {
   "cell_type": "code",
   "execution_count": 16,
   "id": "a4805362",
   "metadata": {},
   "outputs": [],
   "source": [
    "# Oluşturulan TF-IDF vekterünü ve modeli kaydetme(LogisticRegression)\n",
    "with open('tfidf_vectorizer_3.pkl', 'wb') as f:\n",
    "    pickle.dump(preprocessor, f)\n",
    "\n",
    "with open('product_prediction_model_3.pkl', 'wb') as f:\n",
    "    pickle.dump(model, f)"
   ]
  },
  {
   "cell_type": "markdown",
   "id": "8e3990d1",
   "metadata": {},
   "source": [
    "### Modellin Kullanılması"
   ]
  },
  {
   "cell_type": "code",
   "execution_count": 5,
   "id": "5bc065d8",
   "metadata": {},
   "outputs": [
    {
     "name": "stdout",
     "output_type": "stream",
     "text": [
      "Nasıl bir ürün almak istediğinizi açıkla açıklar mısınız? (content): Kulağı rahatsız etmeyen bir ürün istiyorum.\n",
      "Almak istediğiniz ürün kaç puan almış olsun? (rating): 4\n",
      "Ürün rengini giriniz (örnek: black, white): Siyah\n",
      "Hangi marka olsun istersiniz? (örnek: marshall): sony\n",
      "Almak istediğiniz ürün için fiyat aralığını giriniz (örnek: 150-200): 150-200\n",
      "Tahmin edilen ürün: bang olufsen beosound\n"
     ]
    }
   ],
   "source": [
    "with open('tfidf_vectorizer_3.pkl', 'rb') as f:\n",
    "    preprocessor = pickle.load(f)\n",
    "\n",
    "with open('product_prediction_model_3.pkl', 'rb') as f:\n",
    "    model = pickle.load(f)\n",
    "\n",
    "user_content = input(\"Nasıl bir ürün almak istediğinizi açıkla açıklar mısınız? (content): \")\n",
    "user_rating = float(input(\"Almak istediğiniz ürün kaç puan almış olsun? (rating): \"))\n",
    "user_attributes = input(\"Ürün rengini giriniz (örnek: black, white): \")\n",
    "user_company = input(\"Hangi marka olsun istersiniz? (örnek: marshall): \")\n",
    "\n",
    "\n",
    "user_price_range = input(\"Almak istediğiniz ürün için fiyat aralığını giriniz (örnek: 150-200): \")\n",
    "user_price_min, user_price_max = map(float, user_price_range.split('-'))  # Fiyat aralığını ayır\n",
    "user_price_avg = (user_price_min + user_price_max) / 2\n",
    "\n",
    "\n",
    "user_content_lower = user_content.lower()\n",
    "user_attributes_lower = user_attributes.lower()\n",
    "user_company_lower = user_company.lower()\n",
    "\n",
    "\n",
    "\n",
    "new_data = {\n",
    "    'content': [user_content], \n",
    "    'rating': [user_rating], \n",
    "    'price(in $)': [user_price_avg], \n",
    "    'product_attributes': [user_attributes],  \n",
    "    'company': [user_company] \n",
    "}\n",
    "\n",
    "\n",
    "new_data_df = pd.DataFrame(new_data)\n",
    "\n",
    "user_input_transformed = preprocessor.transform(new_data_df)\n",
    "\n",
    "predicted_product = model.predict(user_input_transformed)\n",
    "\n",
    "print(\"Tahmin edilen ürün:\", predicted_product[0])"
   ]
  },
  {
   "cell_type": "code",
   "execution_count": null,
   "id": "c1a19d3d",
   "metadata": {},
   "outputs": [],
   "source": []
  }
 ],
 "metadata": {
  "kernelspec": {
   "display_name": "Python 3 (ipykernel)",
   "language": "python",
   "name": "python3"
  },
  "language_info": {
   "codemirror_mode": {
    "name": "ipython",
    "version": 3
   },
   "file_extension": ".py",
   "mimetype": "text/x-python",
   "name": "python",
   "nbconvert_exporter": "python",
   "pygments_lexer": "ipython3",
   "version": "3.10.9"
  }
 },
 "nbformat": 4,
 "nbformat_minor": 5
}
